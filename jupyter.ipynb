{
 "cells": [
  {
   "cell_type": "code",
   "execution_count": 1,
   "id": "a1f4ccb2",
   "metadata": {
    "ExecuteTime": {
     "end_time": "2023-08-04T02:43:46.035920Z",
     "start_time": "2023-08-04T02:43:45.260540Z"
    }
   },
   "outputs": [],
   "source": [
    "import os\n",
    "import glob\n",
    "from collections import OrderedDict\n",
    "import numpy as np\n",
    "import pandas as pd\n",
    "import matplotlib.pyplot as plt\n",
    "import pysam"
   ]
  },
  {
   "cell_type": "markdown",
   "id": "f685b573",
   "metadata": {},
   "source": [
    "# Summary"
   ]
  },
  {
   "cell_type": "code",
   "execution_count": 7,
   "id": "79b69049",
   "metadata": {
    "ExecuteTime": {
     "end_time": "2023-08-04T02:49:35.589088Z",
     "start_time": "2023-08-04T02:49:27.367670Z"
    }
   },
   "outputs": [
    {
     "data": {
      "text/html": [
       "<div>\n",
       "<style scoped>\n",
       "    .dataframe tbody tr th:only-of-type {\n",
       "        vertical-align: middle;\n",
       "    }\n",
       "\n",
       "    .dataframe tbody tr th {\n",
       "        vertical-align: top;\n",
       "    }\n",
       "\n",
       "    .dataframe thead th {\n",
       "        text-align: right;\n",
       "    }\n",
       "</style>\n",
       "<table border=\"1\" class=\"dataframe\">\n",
       "  <thead>\n",
       "    <tr style=\"text-align: right;\">\n",
       "      <th></th>\n",
       "      <th>TotalReads</th>\n",
       "      <th>CellReads</th>\n",
       "      <th>CellRatio</th>\n",
       "      <th>TrimReads</th>\n",
       "      <th>TrimRatio</th>\n",
       "      <th>PolyAReads</th>\n",
       "      <th>PolyARatio</th>\n",
       "      <th>MappedReads</th>\n",
       "      <th>MappedRatio</th>\n",
       "      <th>FilteredReads</th>\n",
       "      <th>FilteredRatio</th>\n",
       "      <th>ClipFilteredReads</th>\n",
       "      <th>ClipFilteredRatio</th>\n",
       "    </tr>\n",
       "    <tr>\n",
       "      <th>Sample</th>\n",
       "      <th></th>\n",
       "      <th></th>\n",
       "      <th></th>\n",
       "      <th></th>\n",
       "      <th></th>\n",
       "      <th></th>\n",
       "      <th></th>\n",
       "      <th></th>\n",
       "      <th></th>\n",
       "      <th></th>\n",
       "      <th></th>\n",
       "      <th></th>\n",
       "      <th></th>\n",
       "    </tr>\n",
       "  </thead>\n",
       "  <tbody>\n",
       "    <tr>\n",
       "      <th>UMI_100</th>\n",
       "      <td>47209842</td>\n",
       "      <td>32608563</td>\n",
       "      <td>0.690715</td>\n",
       "      <td>29478501</td>\n",
       "      <td>0.624414</td>\n",
       "      <td>23314319</td>\n",
       "      <td>0.493844</td>\n",
       "      <td>22473015</td>\n",
       "      <td>0.476024</td>\n",
       "      <td>17984524</td>\n",
       "      <td>0.380949</td>\n",
       "      <td>11493639</td>\n",
       "      <td>0.243459</td>\n",
       "    </tr>\n",
       "    <tr>\n",
       "      <th>UMI_200</th>\n",
       "      <td>47419955</td>\n",
       "      <td>28084696</td>\n",
       "      <td>0.592255</td>\n",
       "      <td>25959503</td>\n",
       "      <td>0.547438</td>\n",
       "      <td>21036074</td>\n",
       "      <td>0.443612</td>\n",
       "      <td>20169902</td>\n",
       "      <td>0.425346</td>\n",
       "      <td>15993658</td>\n",
       "      <td>0.337277</td>\n",
       "      <td>9139230</td>\n",
       "      <td>0.192730</td>\n",
       "    </tr>\n",
       "    <tr>\n",
       "      <th>4CL</th>\n",
       "      <td>84610428</td>\n",
       "      <td>68262224</td>\n",
       "      <td>0.806783</td>\n",
       "      <td>67711367</td>\n",
       "      <td>0.800272</td>\n",
       "      <td>56859164</td>\n",
       "      <td>0.672011</td>\n",
       "      <td>54485905</td>\n",
       "      <td>0.643962</td>\n",
       "      <td>45166458</td>\n",
       "      <td>0.533817</td>\n",
       "      <td>36918876</td>\n",
       "      <td>0.436340</td>\n",
       "    </tr>\n",
       "    <tr>\n",
       "      <th>9CL</th>\n",
       "      <td>84801426</td>\n",
       "      <td>61465620</td>\n",
       "      <td>0.724818</td>\n",
       "      <td>60759551</td>\n",
       "      <td>0.716492</td>\n",
       "      <td>48542253</td>\n",
       "      <td>0.572423</td>\n",
       "      <td>46231110</td>\n",
       "      <td>0.545169</td>\n",
       "      <td>36456706</td>\n",
       "      <td>0.429907</td>\n",
       "      <td>27676309</td>\n",
       "      <td>0.326366</td>\n",
       "    </tr>\n",
       "  </tbody>\n",
       "</table>\n",
       "</div>"
      ],
      "text/plain": [
       "         TotalReads  CellReads  CellRatio  TrimReads  TrimRatio  PolyAReads  \\\n",
       "Sample                                                                        \n",
       "UMI_100    47209842   32608563   0.690715   29478501   0.624414    23314319   \n",
       "UMI_200    47419955   28084696   0.592255   25959503   0.547438    21036074   \n",
       "4CL        84610428   68262224   0.806783   67711367   0.800272    56859164   \n",
       "9CL        84801426   61465620   0.724818   60759551   0.716492    48542253   \n",
       "\n",
       "         PolyARatio  MappedReads  MappedRatio  FilteredReads  FilteredRatio  \\\n",
       "Sample                                                                        \n",
       "UMI_100    0.493844     22473015     0.476024       17984524       0.380949   \n",
       "UMI_200    0.443612     20169902     0.425346       15993658       0.337277   \n",
       "4CL        0.672011     54485905     0.643962       45166458       0.533817   \n",
       "9CL        0.572423     46231110     0.545169       36456706       0.429907   \n",
       "\n",
       "         ClipFilteredReads  ClipFilteredRatio  \n",
       "Sample                                         \n",
       "UMI_100           11493639           0.243459  \n",
       "UMI_200            9139230           0.192730  \n",
       "4CL               36918876           0.436340  \n",
       "9CL               27676309           0.326366  "
      ]
     },
     "execution_count": 7,
     "metadata": {},
     "output_type": "execute_result"
    }
   ],
   "source": [
    "runs = [\"UMI_100\", \"UMI_200\", \"4CL\", \"9CL\"]\n",
    "array = []\n",
    "\n",
    "for run in runs:\n",
    "    d = OrderedDict()\n",
    "    \n",
    "    total_reads = int(open(\"results/demux/read_count/%s.txt\" % run).readlines()[0].strip())\n",
    "    d[\"TotalReads\"] = total_reads\n",
    "    \n",
    "    cell_reads = 0\n",
    "    for path in glob.glob(\"results/demux/pychopper/%s/*.log\" % run):\n",
    "        for line in open(path):\n",
    "            if \"Total fastq records in input file:\" in line:\n",
    "                cell_reads += int(line.strip().split()[-1])\n",
    "    d[\"CellReads\"] = cell_reads\n",
    "    d[\"CellRatio\"] = cell_reads / total_reads\n",
    "    \n",
    "    trim_reads = 0\n",
    "    polya_reads = 0\n",
    "    if False:\n",
    "        for path in glob.glob(\"results/demux/cutadapt/%s/*.log\" % run):\n",
    "            for line in open(path):\n",
    "                if \"Total reads processed:\" in line:\n",
    "                    trim_reads += int(line.strip().split()[-1].replace(\",\", \"\"))\n",
    "                elif \"Reads written (passing filters):\" in line:\n",
    "                    polya_reads += int(line.strip().split()[-2].replace(\",\", \"\"))\n",
    "    else:\n",
    "        for path in glob.glob(\"results/demux/remove_polya/%s/*.log\" % run):\n",
    "            lines = open(path).readlines()\n",
    "            trim_reads += int(lines[0].strip().split()[-1])\n",
    "            polya_reads += int(lines[1].strip().split()[-1])\n",
    "    d[\"TrimReads\"] = trim_reads\n",
    "    d[\"TrimRatio\"] = trim_reads / total_reads\n",
    "    d[\"PolyAReads\"] = polya_reads\n",
    "    d[\"PolyARatio\"] = polya_reads / total_reads\n",
    "    \n",
    "    mapped = 0\n",
    "    for path in glob.glob(\"results/mapping/minimap2/%s/*.flagstat\" % run):\n",
    "        with open(path) as f:\n",
    "            for line in f:\n",
    "                if \"primary mapped\" in line:\n",
    "                    mapped += int(line.split()[0])\n",
    "    d[\"MappedReads\"] = mapped\n",
    "    d[\"MappedRatio\"] = mapped / total_reads\n",
    "    \n",
    "    filtered = 0\n",
    "    for path in glob.glob(\"results/mapping/filtered/%s/*.flagstat\" % run):\n",
    "        with open(path) as f:\n",
    "            for line in f:\n",
    "                if \"primary mapped\" in line:\n",
    "                    filtered += int(line.split()[0])\n",
    "    d[\"FilteredReads\"] = filtered\n",
    "    d[\"FilteredRatio\"] = filtered / total_reads\n",
    "    \n",
    "    clip_filtered = 0\n",
    "    for path in glob.glob(\"results/mapping/stat_clip/%s/*.flagstat\" % run):\n",
    "        with open(path) as f:\n",
    "            for line in f:\n",
    "                if \"primary mapped\" in line:\n",
    "                    clip_filtered += int(line.split()[0])\n",
    "    d[\"ClipFilteredReads\"] = clip_filtered\n",
    "    d[\"ClipFilteredRatio\"] = clip_filtered / total_reads\n",
    "                    \n",
    "    array.append(d)\n",
    "    \n",
    "d = pd.DataFrame(array, index=pd.Index(runs, name=\"Sample\"))\n",
    "d"
   ]
  },
  {
   "cell_type": "code",
   "execution_count": 22,
   "id": "ab216d9d",
   "metadata": {
    "ExecuteTime": {
     "end_time": "2023-08-04T02:57:53.402312Z",
     "start_time": "2023-08-04T02:57:52.994284Z"
    }
   },
   "outputs": [
    {
     "name": "stdout",
     "output_type": "stream",
     "text": [
      "TotalRatio       100.000000\n",
      "CellRatio         70.364276\n",
      "TrimRatio         67.215422\n",
      "PolyARatio        54.547266\n",
      "MappedRatio       52.262533\n",
      "FilteredRatio     42.048725\n",
      "dtype: float64\n",
      "TotalRatio        0.000000\n",
      "CellRatio         8.880809\n",
      "TrimRatio        10.986838\n",
      "PolyARatio        9.963155\n",
      "MappedRatio       9.463213\n",
      "FilteredRatio     8.449762\n",
      "dtype: float64\n"
     ]
    },
    {
     "data": {
      "image/png": "[encoded data removed]",
      "text/plain": [
       "<Figure size 288x216 with 1 Axes>"
      ]
     },
     "metadata": {
      "needs_background": "light"
     },
     "output_type": "display_data"
    }
   ],
   "source": [
    "m = d[[\"CellRatio\", \"TrimRatio\", \"PolyARatio\", \"MappedRatio\", \"FilteredRatio\", \"ClipFilteredRatio\"]].copy()\n",
    "m[\"TotalRatio\"] = 1\n",
    "m = m[[\"TotalRatio\", \"CellRatio\", \"TrimRatio\", \"PolyARatio\", \"MappedRatio\", \"FilteredRatio\"]] * 100\n",
    "\n",
    "ys = m.mean()\n",
    "yerr = m.std()\n",
    "xs = np.arange(len(ys))\n",
    "colors = [\"C0\", \"C7\", \"C7\", \"C7\", \"C7\", \"C2\"]\n",
    "ticks = [\"Total reads\", \"Cell reads\", \"With adapter\", \"With polyA\", \"Mapped reads\", \"Filtered reads\"]\n",
    "print(ys)\n",
    "print(yerr)\n",
    "\n",
    "plt.figure(figsize=(4, 3))\n",
    "plt.bar(xs, ys, yerr=yerr, edgecolor=\"black\", color=colors, width=0.4,\n",
    "        error_kw={\"capsize\": 4, \"linewidth\": 1}, clip_on=False)\n",
    "plt.text(2.5, 90, \"N = 4\", ha=\"center\")\n",
    "plt.xlim(-0.5, 5.5)\n",
    "plt.xticks(xs, ticks, rotation=45)\n",
    "plt.ylim(0, 100)\n",
    "plt.ylabel(\"% of recovered reads\")\n",
    "plt.gca().spines[\"top\"].set_visible(False)\n",
    "plt.gca().spines[\"right\"].set_visible(False)\n",
    "plt.tight_layout()\n",
    "plt.savefig(\"figures/nascseq2_filter_propotion.pdf\", dpi=300)"
   ]
  },
  {
   "cell_type": "markdown",
   "id": "a3d13c64",
   "metadata": {
    "ExecuteTime": {
     "end_time": "2023-05-18T13:35:35.152906Z",
     "start_time": "2023-05-18T13:35:35.146943Z"
    }
   },
   "source": [
    "# Make results/UMI_100_K562.bam"
   ]
  },
  {
   "cell_type": "code",
   "execution_count": 5,
   "id": "a0ab8faa",
   "metadata": {
    "ExecuteTime": {
     "end_time": "2023-05-18T13:35:00.101319Z",
     "start_time": "2023-05-18T13:34:58.832709Z"
    }
   },
   "outputs": [],
   "source": [
    "table = pd.read_excel(\"data/Supplementary_Table_S1_Summary_of_sequenced_cells.xlsx\")\n",
    "d = table[table[\"Library\"] == \"UMI_100\"]\n",
    "d = d[d[\"Organism\"] == \"Human\"]\n",
    "\n",
    "paths = []\n",
    "for run, cell in d[[\"Library\", \"Rename\"]].values:\n",
    "    path = \"results/mapping/filtered/%s/%s.bam\" % (run, cell)\n",
    "    paths.append(path)\n",
    "outfile = \"results/UMI_100_K562.bam\"\n",
    "\n",
    "cmd = \"samtools merge -@ 8 -o %s %s\" % (outfile, \" \".join(paths))\n",
    "assert os.system(cmd) == 0\n",
    "\n",
    "cmd = \"samtools index %s\" % outfile\n",
    "assert os.system(cmd) == 0"
   ]
  }
 ],
 "metadata": {
  "kernelspec": {
   "display_name": "Python 3",
   "language": "python",
   "name": "python3"
  },
  "language_info": {
   "codemirror_mode": {
    "name": "ipython",
    "version": 3
   },
   "file_extension": ".py",
   "mimetype": "text/x-python",
   "name": "python",
   "nbconvert_exporter": "python",
   "pygments_lexer": "ipython3",
   "version": "3.6.15"
  }
 },
 "nbformat": 4,
 "nbformat_minor": 5
}
